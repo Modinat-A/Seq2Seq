{
  "nbformat": 4,
  "nbformat_minor": 0,
  "metadata": {
    "colab": {
      "name": "assignment_2.ipynb",
      "provenance": [],
      "collapsed_sections": [],
      "authorship_tag": "ABX9TyMo7mcTAw+V7WRQp6zpH+9L",
      "include_colab_link": true
    },
    "kernelspec": {
      "name": "python3",
      "display_name": "Python 3"
    },
    "language_info": {
      "name": "python"
    }
  },
  "cells": [
    {
      "cell_type": "markdown",
      "metadata": {
        "id": "view-in-github",
        "colab_type": "text"
      },
      "source": [
        "<a href=\"https://colab.research.google.com/github/Modinat-A/Seq2Seq/blob/main/assignment_2.ipynb\" target=\"_parent\"><img src=\"https://colab.research.google.com/assets/colab-badge.svg\" alt=\"Open In Colab\"/></a>"
      ]
    },
    {
      "cell_type": "code",
      "execution_count": 112,
      "metadata": {
        "id": "AZlOoJNHvGpg"
      },
      "outputs": [],
      "source": [
        "from matplotlib import pyplot as plt\n",
        "import pandas as pd\n",
        "import numpy as np\n",
        "import json\n",
        "import re\n",
        "import py\n",
        "from collections import Counter\n",
        "import keras\n",
        "from keras import layers, models\n",
        "from keras.preprocessing.text import Tokenizer\n",
        "from keras.preprocessing.sequence import pad_sequences\n",
        "from keras.callbacks import EarlyStopping, ModelCheckpoint\n",
        "from keras.layers import Bidirectional\n",
        "from keras.layers import LSTM\n",
        "from keras.layers import Dense\n",
        "from keras.layers import TimeDistributed\n",
        "from keras.layers import Activation\n",
        "from keras import Input\n",
        "from keras.layers import Embedding\n",
        "from nltk.translate.bleu_score import sentence_bleu"
      ]
    },
    {
      "cell_type": "code",
      "source": [
        "# load training data and merge\n",
        "file_name = open('train_spider.json')\n",
        "v= pd.read_json(file_name)\n",
        "train_data = v.head(1000)\n",
        "\n",
        "# load testing data\n",
        "file_name = open('dev.json')\n",
        "c = pd.read_json(file_name)\n",
        "test_data = c.head(1000)\n"
      ],
      "metadata": {
        "id": "ZuOpBThx2uPL"
      },
      "execution_count": 85,
      "outputs": []
    },
    {
      "cell_type": "code",
      "source": [
        "train_data = train_data[['query','question']]"
      ],
      "metadata": {
        "id": "VWQbwWcROo8V"
      },
      "execution_count": 86,
      "outputs": []
    },
    {
      "cell_type": "code",
      "source": [
        "train_data.head()"
      ],
      "metadata": {
        "colab": {
          "base_uri": "https://localhost:8080/",
          "height": 204
        },
        "id": "Uo6wjrXiXWT0",
        "outputId": "716ff5d3-ea13-447a-e8c0-6d1ed3f22899"
      },
      "execution_count": 87,
      "outputs": [
        {
          "output_type": "execute_result",
          "data": {
            "text/plain": [
              "                                               query  \\\n",
              "0         SELECT count(*) FROM head WHERE age  >  56   \n",
              "1  SELECT name ,  born_state ,  age FROM head ORD...   \n",
              "2  SELECT creation ,  name ,  budget_in_billions ...   \n",
              "3  SELECT max(budget_in_billions) ,  min(budget_i...   \n",
              "4  SELECT avg(num_employees) FROM department WHER...   \n",
              "\n",
              "                                            question  \n",
              "0  How many heads of the departments are older th...  \n",
              "1  List the name, born state and age of the heads...  \n",
              "2  List the creation year, name and budget of eac...  \n",
              "3  What are the maximum and minimum budget of the...  \n",
              "4  What is the average number of employees of the...  "
            ],
            "text/html": [
              "\n",
              "  <div id=\"df-2f278a61-d050-4bbc-8d6a-cf79128e62cf\">\n",
              "    <div class=\"colab-df-container\">\n",
              "      <div>\n",
              "<style scoped>\n",
              "    .dataframe tbody tr th:only-of-type {\n",
              "        vertical-align: middle;\n",
              "    }\n",
              "\n",
              "    .dataframe tbody tr th {\n",
              "        vertical-align: top;\n",
              "    }\n",
              "\n",
              "    .dataframe thead th {\n",
              "        text-align: right;\n",
              "    }\n",
              "</style>\n",
              "<table border=\"1\" class=\"dataframe\">\n",
              "  <thead>\n",
              "    <tr style=\"text-align: right;\">\n",
              "      <th></th>\n",
              "      <th>query</th>\n",
              "      <th>question</th>\n",
              "    </tr>\n",
              "  </thead>\n",
              "  <tbody>\n",
              "    <tr>\n",
              "      <th>0</th>\n",
              "      <td>SELECT count(*) FROM head WHERE age  &gt;  56</td>\n",
              "      <td>How many heads of the departments are older th...</td>\n",
              "    </tr>\n",
              "    <tr>\n",
              "      <th>1</th>\n",
              "      <td>SELECT name ,  born_state ,  age FROM head ORD...</td>\n",
              "      <td>List the name, born state and age of the heads...</td>\n",
              "    </tr>\n",
              "    <tr>\n",
              "      <th>2</th>\n",
              "      <td>SELECT creation ,  name ,  budget_in_billions ...</td>\n",
              "      <td>List the creation year, name and budget of eac...</td>\n",
              "    </tr>\n",
              "    <tr>\n",
              "      <th>3</th>\n",
              "      <td>SELECT max(budget_in_billions) ,  min(budget_i...</td>\n",
              "      <td>What are the maximum and minimum budget of the...</td>\n",
              "    </tr>\n",
              "    <tr>\n",
              "      <th>4</th>\n",
              "      <td>SELECT avg(num_employees) FROM department WHER...</td>\n",
              "      <td>What is the average number of employees of the...</td>\n",
              "    </tr>\n",
              "  </tbody>\n",
              "</table>\n",
              "</div>\n",
              "      <button class=\"colab-df-convert\" onclick=\"convertToInteractive('df-2f278a61-d050-4bbc-8d6a-cf79128e62cf')\"\n",
              "              title=\"Convert this dataframe to an interactive table.\"\n",
              "              style=\"display:none;\">\n",
              "        \n",
              "  <svg xmlns=\"http://www.w3.org/2000/svg\" height=\"24px\"viewBox=\"0 0 24 24\"\n",
              "       width=\"24px\">\n",
              "    <path d=\"M0 0h24v24H0V0z\" fill=\"none\"/>\n",
              "    <path d=\"M18.56 5.44l.94 2.06.94-2.06 2.06-.94-2.06-.94-.94-2.06-.94 2.06-2.06.94zm-11 1L8.5 8.5l.94-2.06 2.06-.94-2.06-.94L8.5 2.5l-.94 2.06-2.06.94zm10 10l.94 2.06.94-2.06 2.06-.94-2.06-.94-.94-2.06-.94 2.06-2.06.94z\"/><path d=\"M17.41 7.96l-1.37-1.37c-.4-.4-.92-.59-1.43-.59-.52 0-1.04.2-1.43.59L10.3 9.45l-7.72 7.72c-.78.78-.78 2.05 0 2.83L4 21.41c.39.39.9.59 1.41.59.51 0 1.02-.2 1.41-.59l7.78-7.78 2.81-2.81c.8-.78.8-2.07 0-2.86zM5.41 20L4 18.59l7.72-7.72 1.47 1.35L5.41 20z\"/>\n",
              "  </svg>\n",
              "      </button>\n",
              "      \n",
              "  <style>\n",
              "    .colab-df-container {\n",
              "      display:flex;\n",
              "      flex-wrap:wrap;\n",
              "      gap: 12px;\n",
              "    }\n",
              "\n",
              "    .colab-df-convert {\n",
              "      background-color: #E8F0FE;\n",
              "      border: none;\n",
              "      border-radius: 50%;\n",
              "      cursor: pointer;\n",
              "      display: none;\n",
              "      fill: #1967D2;\n",
              "      height: 32px;\n",
              "      padding: 0 0 0 0;\n",
              "      width: 32px;\n",
              "    }\n",
              "\n",
              "    .colab-df-convert:hover {\n",
              "      background-color: #E2EBFA;\n",
              "      box-shadow: 0px 1px 2px rgba(60, 64, 67, 0.3), 0px 1px 3px 1px rgba(60, 64, 67, 0.15);\n",
              "      fill: #174EA6;\n",
              "    }\n",
              "\n",
              "    [theme=dark] .colab-df-convert {\n",
              "      background-color: #3B4455;\n",
              "      fill: #D2E3FC;\n",
              "    }\n",
              "\n",
              "    [theme=dark] .colab-df-convert:hover {\n",
              "      background-color: #434B5C;\n",
              "      box-shadow: 0px 1px 3px 1px rgba(0, 0, 0, 0.15);\n",
              "      filter: drop-shadow(0px 1px 2px rgba(0, 0, 0, 0.3));\n",
              "      fill: #FFFFFF;\n",
              "    }\n",
              "  </style>\n",
              "\n",
              "      <script>\n",
              "        const buttonEl =\n",
              "          document.querySelector('#df-2f278a61-d050-4bbc-8d6a-cf79128e62cf button.colab-df-convert');\n",
              "        buttonEl.style.display =\n",
              "          google.colab.kernel.accessAllowed ? 'block' : 'none';\n",
              "\n",
              "        async function convertToInteractive(key) {\n",
              "          const element = document.querySelector('#df-2f278a61-d050-4bbc-8d6a-cf79128e62cf');\n",
              "          const dataTable =\n",
              "            await google.colab.kernel.invokeFunction('convertToInteractive',\n",
              "                                                     [key], {});\n",
              "          if (!dataTable) return;\n",
              "\n",
              "          const docLinkHtml = 'Like what you see? Visit the ' +\n",
              "            '<a target=\"_blank\" href=https://colab.research.google.com/notebooks/data_table.ipynb>data table notebook</a>'\n",
              "            + ' to learn more about interactive tables.';\n",
              "          element.innerHTML = '';\n",
              "          dataTable['output_type'] = 'display_data';\n",
              "          await google.colab.output.renderOutput(dataTable, element);\n",
              "          const docLink = document.createElement('div');\n",
              "          docLink.innerHTML = docLinkHtml;\n",
              "          element.appendChild(docLink);\n",
              "        }\n",
              "      </script>\n",
              "    </div>\n",
              "  </div>\n",
              "  "
            ]
          },
          "metadata": {},
          "execution_count": 87
        }
      ]
    },
    {
      "cell_type": "code",
      "source": [
        "train_data['query']= train_data['query'].apply(lambda x: x.lower())\n",
        "train_data['question'] = train_data['question'].apply(lambda x: x.lower())"
      ],
      "metadata": {
        "id": "cHneDmRLXcS6"
      },
      "execution_count": 88,
      "outputs": []
    },
    {
      "cell_type": "code",
      "source": [
        "train_data['question']=train_data['question'].apply(lambda x: re.sub(\"'\", '', x)).apply(lambda x: re.sub(\",\", ' COMMA', x))\n",
        "train_data['query'] =train_data['query'].apply(lambda x: re.sub(\"'\", '', x)).apply(lambda x: re.sub(\",\", ' COMMA', x))"
      ],
      "metadata": {
        "id": "3MFa8dZjXoVh"
      },
      "execution_count": 89,
      "outputs": []
    },
    {
      "cell_type": "code",
      "source": [
        "exclude = ['!','\"','#','$','%','&',\"'\",'(',')', '*','+',',','-','.','/',':',';','<','=','>','?','@','[','\\\\',']','^','`','{','|','}','~']\n",
        "train_data['question']=train_data['question'].apply(lambda x: ''.join(ch for ch in x if ch not in exclude))\n",
        "train_data['query']= train_data['query'].apply(lambda x: ''.join(ch for ch in x if ch not in exclude))"
      ],
      "metadata": {
        "id": "Wgc1rKtfX3vA"
      },
      "execution_count": 90,
      "outputs": []
    },
    {
      "cell_type": "code",
      "source": [
        "train_data['query'] = train_data['query'].apply(lambda x : 'START_ '+ x + ' _END')"
      ],
      "metadata": {
        "id": "p-JngQRVX5HE"
      },
      "execution_count": 91,
      "outputs": []
    },
    {
      "cell_type": "code",
      "source": [
        "input_words=set()\n",
        "target_words=set()\n",
        "for i in train_data['question']:\n",
        "    for word in i.split():\n",
        "        if word not in input_words:\n",
        "            input_words.add(word)\n",
        "    \n",
        "for i in train_data['query']:\n",
        "    for word in i.split():\n",
        "        if word not in target_words:\n",
        "            target_words.add(word)"
      ],
      "metadata": {
        "id": "kx-Ig_XxZEMq"
      },
      "execution_count": 92,
      "outputs": []
    },
    {
      "cell_type": "code",
      "source": [
        "len(input_words), len(target_words)"
      ],
      "metadata": {
        "colab": {
          "base_uri": "https://localhost:8080/"
        },
        "id": "SHMy-pB-3W7H",
        "outputId": "f73d7f49-030b-478e-dfc1-377a9dc73168"
      },
      "execution_count": 93,
      "outputs": [
        {
          "output_type": "execute_result",
          "data": {
            "text/plain": [
              "(894, 798)"
            ]
          },
          "metadata": {},
          "execution_count": 93
        }
      ]
    },
    {
      "cell_type": "code",
      "source": [
        "lenght_list=[]\n",
        "for l in train_data['query']:\n",
        "    lenght_list.append(len(l.split(' ')))\n",
        "max_query = np.max(lenght_list)"
      ],
      "metadata": {
        "id": "ALF4GnZ83itl"
      },
      "execution_count": 94,
      "outputs": []
    },
    {
      "cell_type": "code",
      "source": [
        "lenght_list=[]\n",
        "for l in train_data['question']:\n",
        "    lenght_list.append(len(l.split(' ')))\n",
        "max_question = np.max(lenght_list)"
      ],
      "metadata": {
        "id": "KVvlowvx3rwx"
      },
      "execution_count": 95,
      "outputs": []
    },
    {
      "cell_type": "code",
      "source": [
        "train_data['query']"
      ],
      "metadata": {
        "colab": {
          "base_uri": "https://localhost:8080/"
        },
        "id": "mXfv20S8xOTJ",
        "outputId": "6efb6f36-2959-471e-ba3d-d8c11ff697b1"
      },
      "execution_count": 96,
      "outputs": [
        {
          "output_type": "execute_result",
          "data": {
            "text/plain": [
              "0      START_ select count from head where age    56 ...\n",
              "1      START_ select name  COMMA  born_state  COMMA  ...\n",
              "2      START_ select creation  COMMA  name  COMMA  bu...\n",
              "3      START_ select maxbudget_in_billions  COMMA  mi...\n",
              "4      START_ select avgnum_employees from department...\n",
              "                             ...                        \n",
              "995    START_ select avgenrollment from university wh...\n",
              "996    START_ select avgenrollment from university wh...\n",
              "997    START_ select enrollment  COMMA  primary_confe...\n",
              "998    START_ select enrollment  COMMA  primary_confe...\n",
              "999    START_ select sumenrollment  COMMA  minenrollm...\n",
              "Name: query, Length: 1000, dtype: object"
            ]
          },
          "metadata": {},
          "execution_count": 96
        }
      ]
    },
    {
      "cell_type": "code",
      "source": [
        "train_data['question']"
      ],
      "metadata": {
        "colab": {
          "base_uri": "https://localhost:8080/"
        },
        "id": "oyf_yFhzm4tP",
        "outputId": "0ff86ece-3c18-452d-86a7-bcfb34087014"
      },
      "execution_count": 97,
      "outputs": [
        {
          "output_type": "execute_result",
          "data": {
            "text/plain": [
              "0      how many heads of the departments are older th...\n",
              "1      list the name COMMA born state and age of the ...\n",
              "2      list the creation year COMMA name and budget o...\n",
              "3      what are the maximum and minimum budget of the...\n",
              "4      what is the average number of employees of the...\n",
              "                             ...                        \n",
              "995    what are the average enrollment size of the un...\n",
              "996    return the average enrollment of universities ...\n",
              "997    show the enrollment and primary_conference of ...\n",
              "998    what are the enrollment and primary conference...\n",
              "999    what is the total and minimum enrollment of al...\n",
              "Name: question, Length: 1000, dtype: object"
            ]
          },
          "metadata": {},
          "execution_count": 97
        }
      ]
    },
    {
      "cell_type": "code",
      "source": [
        "input_words = sorted(list(input_words))\n",
        "target_words = sorted(list(target_words))\n",
        "num_encoder_tokens = len(input_words)\n",
        "num_decoder_tokens = len(target_words)\n",
        "# del all_eng_words, all_french_words"
      ],
      "metadata": {
        "id": "dlunON8b6BF1"
      },
      "execution_count": 123,
      "outputs": []
    },
    {
      "cell_type": "code",
      "source": [
        "input_token_index = dict([(word, i) for i, word in enumerate(input_words)])\n",
        "target_token_index = dict([(word, i) for i, word in enumerate(target_words)])"
      ],
      "metadata": {
        "id": "aO6QPz8y6KR5"
      },
      "execution_count": 124,
      "outputs": []
    },
    {
      "cell_type": "code",
      "source": [
        "encoder_input_data = np.zeros((len(train_data['question']), max_question),dtype='float32')\n",
        "decoder_input_data = np.zeros((len(train_data['query']), max_query),dtype='float32')\n",
        "decoder_target_data = np.zeros((len(train_data['query']),max_query, num_decoder_tokens),dtype='float32')"
      ],
      "metadata": {
        "id": "9bv-ae646M9f"
      },
      "execution_count": 125,
      "outputs": []
    },
    {
      "cell_type": "code",
      "source": [
        "print(encoder_input_data.shape)\n",
        "print(decoder_input_data.shape)\n",
        "print(decoder_target_data.shape)"
      ],
      "metadata": {
        "colab": {
          "base_uri": "https://localhost:8080/"
        },
        "id": "maenvMuT6yDM",
        "outputId": "1b72747a-03a0-42a1-fa6b-67bda8eeb5f4"
      },
      "execution_count": 126,
      "outputs": [
        {
          "output_type": "stream",
          "name": "stdout",
          "text": [
            "(1000, 26)\n",
            "(1000, 71)\n",
            "(1000, 71, 798)\n"
          ]
        }
      ]
    },
    {
      "cell_type": "code",
      "source": [
        "for i, (input_text, target_text) in enumerate(zip(train_data['question'], train_data['query'])):\n",
        "    for t, word in enumerate(input_text.split()):\n",
        "        encoder_input_data[i, t] = input_token_index[word]\n",
        "    for t, word in enumerate(target_text.split()):\n",
        "        # decoder_target_data is ahead of decoder_input_data by one timestep\n",
        "        decoder_input_data[i, t] = target_token_index[word]\n",
        "        if t > 0:\n",
        "            # decoder_target_data will be ahead by one timestep\n",
        "            # and will not include the start character.\n",
        "            decoder_target_data[i, t - 1, target_token_index[word]] = 1."
      ],
      "metadata": {
        "id": "w_mwqt9OZ4H8"
      },
      "execution_count": 127,
      "outputs": []
    },
    {
      "cell_type": "code",
      "source": [
        "embedding_size = 30"
      ],
      "metadata": {
        "id": "MJxeGx9_jDc6"
      },
      "execution_count": 137,
      "outputs": []
    },
    {
      "cell_type": "code",
      "source": [
        "encoder_inputs = Input(shape=(None,))\n",
        "en_x=  Embedding(num_encoder_tokens, embedding_size)(encoder_inputs)\n",
        "encoder = LSTM(84, return_state=True)\n",
        "encoder_outputs, state_h, state_c = encoder(en_x)\n",
        "# We discard `encoder_outputs` and only keep the states.\n",
        "encoder_states = [state_h, state_c]\n",
        "\n",
        "# Set up the decoder, using `encoder_states` as initial state.\n",
        "decoder_inputs = Input(shape=(None,))\n",
        "\n",
        "dex=  Embedding(num_decoder_tokens, embedding_size)\n",
        "\n",
        "final_dex= dex(decoder_inputs)\n",
        "\n",
        "\n",
        "decoder_lstm = LSTM(84, return_sequences=True, return_state=True)\n",
        "\n",
        "decoder_outputs, _, _ = decoder_lstm(final_dex,\n",
        "                                     initial_state=encoder_states)\n",
        "\n",
        "decoder_dense = Dense(num_decoder_tokens, activation='softmax')\n",
        "\n",
        "decoder_outputs = decoder_dense(decoder_outputs)\n",
        "\n",
        "model = Model([encoder_inputs, decoder_inputs], decoder_outputs)\n",
        "\n",
        "model.compile(optimizer='rmsprop', loss='categorical_crossentropy', metrics=['acc'])"
      ],
      "metadata": {
        "id": "I6aRcVoxjcDH"
      },
      "execution_count": 139,
      "outputs": []
    },
    {
      "cell_type": "code",
      "source": [
        "model.fit([encoder_input_data, decoder_input_data], decoder_target_data,\n",
        "          batch_size=128,\n",
        "          epochs=20,\n",
        "          validation_split=0.3)"
      ],
      "metadata": {
        "colab": {
          "base_uri": "https://localhost:8080/"
        },
        "id": "ynlmN1d8jetM",
        "outputId": "17c05e5f-f611-4021-8a87-20f8805a8a6f"
      },
      "execution_count": 140,
      "outputs": [
        {
          "output_type": "stream",
          "name": "stdout",
          "text": [
            "Epoch 1/20\n",
            "6/6 [==============================] - 7s 564ms/step - loss: 1.3472 - acc: 0.0213 - val_loss: 1.3004 - val_acc: 0.0279\n",
            "Epoch 2/20\n",
            "6/6 [==============================] - 2s 386ms/step - loss: 1.1874 - acc: 0.0277 - val_loss: 1.1676 - val_acc: 0.0324\n",
            "Epoch 3/20\n",
            "6/6 [==============================] - 2s 402ms/step - loss: 1.1134 - acc: 0.0318 - val_loss: 1.1430 - val_acc: 0.0316\n",
            "Epoch 4/20\n",
            "6/6 [==============================] - 2s 377ms/step - loss: 1.0940 - acc: 0.0318 - val_loss: 1.1325 - val_acc: 0.0320\n",
            "Epoch 5/20\n",
            "6/6 [==============================] - 2s 382ms/step - loss: 1.0837 - acc: 0.0321 - val_loss: 1.1268 - val_acc: 0.0390\n",
            "Epoch 6/20\n",
            "6/6 [==============================] - 2s 381ms/step - loss: 1.0765 - acc: 0.0360 - val_loss: 1.1208 - val_acc: 0.0390\n",
            "Epoch 7/20\n",
            "6/6 [==============================] - 2s 381ms/step - loss: 1.0707 - acc: 0.0380 - val_loss: 1.1167 - val_acc: 0.0393\n",
            "Epoch 8/20\n",
            "6/6 [==============================] - 2s 379ms/step - loss: 1.0669 - acc: 0.0405 - val_loss: 1.1132 - val_acc: 0.0390\n",
            "Epoch 9/20\n",
            "6/6 [==============================] - 2s 378ms/step - loss: 1.0622 - acc: 0.0402 - val_loss: 1.1112 - val_acc: 0.0393\n",
            "Epoch 10/20\n",
            "6/6 [==============================] - 2s 381ms/step - loss: 1.0592 - acc: 0.0405 - val_loss: 1.1066 - val_acc: 0.0393\n",
            "Epoch 11/20\n",
            "6/6 [==============================] - 2s 406ms/step - loss: 1.0558 - acc: 0.0404 - val_loss: 1.1059 - val_acc: 0.0395\n",
            "Epoch 12/20\n",
            "6/6 [==============================] - 2s 382ms/step - loss: 1.0532 - acc: 0.0404 - val_loss: 1.1044 - val_acc: 0.0392\n",
            "Epoch 13/20\n",
            "6/6 [==============================] - 2s 377ms/step - loss: 1.0505 - acc: 0.0405 - val_loss: 1.1032 - val_acc: 0.0392\n",
            "Epoch 14/20\n",
            "6/6 [==============================] - 2s 374ms/step - loss: 1.0491 - acc: 0.0405 - val_loss: 1.1000 - val_acc: 0.0399\n",
            "Epoch 15/20\n",
            "6/6 [==============================] - 2s 379ms/step - loss: 1.0457 - acc: 0.0406 - val_loss: 1.0983 - val_acc: 0.0394\n",
            "Epoch 16/20\n",
            "6/6 [==============================] - 2s 376ms/step - loss: 1.0441 - acc: 0.0406 - val_loss: 1.0984 - val_acc: 0.0395\n",
            "Epoch 17/20\n",
            "6/6 [==============================] - 2s 387ms/step - loss: 1.0433 - acc: 0.0405 - val_loss: 1.0936 - val_acc: 0.0394\n",
            "Epoch 18/20\n",
            "6/6 [==============================] - 2s 407ms/step - loss: 1.0395 - acc: 0.0406 - val_loss: 1.0939 - val_acc: 0.0394\n",
            "Epoch 19/20\n",
            "6/6 [==============================] - 2s 375ms/step - loss: 1.0391 - acc: 0.0406 - val_loss: 1.0930 - val_acc: 0.0394\n",
            "Epoch 20/20\n",
            "6/6 [==============================] - 2s 375ms/step - loss: 1.0374 - acc: 0.0407 - val_loss: 1.0922 - val_acc: 0.0396\n"
          ]
        },
        {
          "output_type": "execute_result",
          "data": {
            "text/plain": [
              "<keras.callbacks.History at 0x7f9bd65b1ad0>"
            ]
          },
          "metadata": {},
          "execution_count": 140
        }
      ]
    },
    {
      "cell_type": "code",
      "source": [
        "encoder_model = Model(encoder_inputs, encoder_states)\n",
        "encoder_model.summary()"
      ],
      "metadata": {
        "colab": {
          "base_uri": "https://localhost:8080/"
        },
        "id": "WZZBZU8Ets9f",
        "outputId": "6edc4d10-a819-4ce3-8b97-f7ce8a05c3dc"
      },
      "execution_count": 141,
      "outputs": [
        {
          "output_type": "stream",
          "name": "stdout",
          "text": [
            "Model: \"model_23\"\n",
            "_________________________________________________________________\n",
            " Layer (type)                Output Shape              Param #   \n",
            "=================================================================\n",
            " input_37 (InputLayer)       [(None, None)]            0         \n",
            "                                                                 \n",
            " embedding_20 (Embedding)    (None, None, 30)          26820     \n",
            "                                                                 \n",
            " lstm_20 (LSTM)              [(None, 84),              38640     \n",
            "                              (None, 84),                        \n",
            "                              (None, 84)]                        \n",
            "                                                                 \n",
            "=================================================================\n",
            "Total params: 65,460\n",
            "Trainable params: 65,460\n",
            "Non-trainable params: 0\n",
            "_________________________________________________________________\n"
          ]
        }
      ]
    },
    {
      "cell_type": "code",
      "source": [
        "decoder_state_input_h = Input(shape=(84,))\n",
        "decoder_state_input_c = Input(shape=(84,))\n",
        "decoder_states_inputs = [decoder_state_input_h, decoder_state_input_c]\n",
        "\n",
        "final_dex2= dex(decoder_inputs)\n",
        "\n",
        "decoder_outputs2, state_h2, state_c2 = decoder_lstm(final_dex2, initial_state=decoder_states_inputs)\n",
        "decoder_states2 = [state_h2, state_c2]\n",
        "decoder_outputs2 = decoder_dense(decoder_outputs2)\n",
        "decoder_model = Model(\n",
        "    [decoder_inputs] + decoder_states_inputs,\n",
        "    [decoder_outputs2] + decoder_states2)\n",
        "\n",
        "# Reverse-lookup token index to decode sequences back to\n",
        "# something readable.\n",
        "reverse_input_char_index = dict(\n",
        "    (i, char) for char, i in input_token_index.items())\n",
        "reverse_target_char_index = dict(\n",
        "    (i, char) for char, i in target_token_index.items())"
      ],
      "metadata": {
        "id": "5p5TWO1QqbCz"
      },
      "execution_count": 142,
      "outputs": []
    },
    {
      "cell_type": "code",
      "source": [
        "def decode_sequence(input_seq):\n",
        "    # Encode the input as state vectors.\n",
        "    states_value = encoder_model.predict(input_seq)\n",
        "    # Generate empty target sequence of length 1.\n",
        "    target_seq = np.zeros((1,1))\n",
        "\n",
        "    \n",
        "    # Sampling loop for a batch of sequences\n",
        "    # (to simplify, here we assume a batch of size 1).\n",
        "    stop_condition = False\n",
        "    decoded_sentence = ''\n",
        "    while not stop_condition:\n",
        "        output_tokens, h, c = decoder_model.predict(\n",
        "            [target_seq] + states_value)\n",
        "\n",
        "        # Sample a token\n",
        "        sampled_token_index = np.argmax(output_tokens[0, -1, :])\n",
        "        sampled_char = reverse_target_char_index[sampled_token_index]\n",
        "        decoded_sentence += ' '+sampled_char\n",
        "\n",
        "        # Exit condition: either hit max length\n",
        "        # or find stop character.\n",
        "        if (sampled_char == '_END' or\n",
        "           len(decoded_sentence) > max_query):\n",
        "            stop_condition = True\n",
        "\n",
        "        # Update the target sequence (of length 1).\n",
        "        target_seq = np.zeros((1,1))\n",
        "        target_seq[0, 0] = sampled_token_index\n",
        "\n",
        "        # Update states\n",
        "        states_value = [h, c]\n",
        "\n",
        "    return decoded_sentence"
      ],
      "metadata": {
        "id": "LELvH-ksqgmd"
      },
      "execution_count": 143,
      "outputs": []
    },
    {
      "cell_type": "code",
      "source": [
        "data = test_data['question'].apply(lambda x:x.lower())\n",
        "for seq_index in [12,22,78,99]:\n",
        "    input_seq = encoder_input_data[seq_index: seq_index + 1]\n",
        "    decoded_sentence = decode_sequence(input_seq)\n",
        "    # print('-')\n",
        "    print('Input sentence:', data[seq_index: seq_index + 1])\n",
        "    print('Decoded sentence:', decoded_sentence)\n"
      ],
      "metadata": {
        "id": "p12qYLDWjq6M",
        "colab": {
          "base_uri": "https://localhost:8080/"
        },
        "outputId": "7fd6812e-b8ed-4950-ac1f-5538a49ef62d"
      },
      "execution_count": 144,
      "outputs": [
        {
          "output_type": "stream",
          "name": "stdout",
          "text": [
            "Input sentence: 12    list all song names by singers above the avera...\n",
            "Name: question, dtype: object\n",
            "Decoded sentence:  select select from from from from from _END\n",
            "Input sentence: 22    show the stadium name and the number of concer...\n",
            "Name: question, dtype: object\n",
            "Decoded sentence:  select from from from from _END\n",
            "Input sentence: 78    what is the id of the pet owned by the student...\n",
            "Name: question, dtype: object\n",
            "Decoded sentence:  select from from from from _END\n",
            "Input sentence: 99    find the name of the makers that produced some...\n",
            "Name: question, dtype: object\n",
            "Decoded sentence:  select select from from from from _END\n"
          ]
        }
      ]
    },
    {
      "cell_type": "markdown",
      "source": [
        "Make Predictions"
      ],
      "metadata": {
        "id": "-B-XJmvKm6Bg"
      }
    },
    {
      "cell_type": "code",
      "source": [
        "test_data['question']= test_data['question'].apply(lambda x:x.lower())\n",
        "scores = []\n",
        "for i,row in enumerate(data):\n",
        "    input_seq = encoder_input_data[i: i + 1]\n",
        "    decoded_sentence = decode_sequence(input_seq)\n",
        "    score = sentence_bleu(decoded_sentence, row)\n",
        "    scores.append(score)\n"
      ],
      "metadata": {
        "colab": {
          "base_uri": "https://localhost:8080/"
        },
        "id": "8Jbd7CyEm40P",
        "outputId": "0ee2e548-c927-4d5f-fac4-5668ee3723b8"
      },
      "execution_count": 115,
      "outputs": [
        {
          "output_type": "stream",
          "name": "stderr",
          "text": [
            "/usr/local/lib/python3.7/dist-packages/ipykernel_launcher.py:1: SettingWithCopyWarning: \n",
            "A value is trying to be set on a copy of a slice from a DataFrame.\n",
            "Try using .loc[row_indexer,col_indexer] = value instead\n",
            "\n",
            "See the caveats in the documentation: https://pandas.pydata.org/pandas-docs/stable/user_guide/indexing.html#returning-a-view-versus-a-copy\n",
            "  \"\"\"Entry point for launching an IPython kernel.\n",
            "/usr/local/lib/python3.7/dist-packages/nltk/translate/bleu_score.py:490: UserWarning: \n",
            "Corpus/Sentence contains 0 counts of 2-gram overlaps.\n",
            "BLEU scores might be undesirable; use SmoothingFunction().\n",
            "  warnings.warn(_msg)\n"
          ]
        }
      ]
    },
    {
      "cell_type": "markdown",
      "source": [
        "Evaluate Performance"
      ],
      "metadata": {
        "id": "vq2mKBmLmi1y"
      }
    },
    {
      "cell_type": "code",
      "source": [
        "print('Bleu score',sum(scores)/len(scores))"
      ],
      "metadata": {
        "colab": {
          "base_uri": "https://localhost:8080/"
        },
        "id": "bj4WUaPwm4Q5",
        "outputId": "389542e5-3bbf-47d0-afa3-a45f3b4ecef4"
      },
      "execution_count": 118,
      "outputs": [
        {
          "output_type": "stream",
          "name": "stdout",
          "text": [
            "Bleu score 0.62127492737195\n"
          ]
        }
      ]
    }
  ]
}